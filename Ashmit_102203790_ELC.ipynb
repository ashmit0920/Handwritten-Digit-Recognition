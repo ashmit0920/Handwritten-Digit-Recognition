{
  "cells": [
    {
      "cell_type": "markdown",
      "source": [
        "# Handwritten Digit Recognition\n",
        "Submitted By: Ashmit Thawait\n",
        "\n",
        "Roll No: 102203790\n",
        "\n",
        "Sub Group: 2CO-17"
      ],
      "metadata": {
        "id": "_HYIaFCUdKuT"
      },
      "id": "_HYIaFCUdKuT"
    },
    {
      "cell_type": "code",
      "execution_count": null,
      "id": "26dbaf25-7159-4372-9180-e33b9b291096",
      "metadata": {
        "id": "26dbaf25-7159-4372-9180-e33b9b291096"
      },
      "outputs": [],
      "source": [
        "import pandas as pd\n",
        "from sklearn.model_selection import train_test_split\n",
        "from sklearn.neighbors import KNeighborsClassifier\n",
        "from sklearn.metrics import accuracy_score, classification_report, confusion_matrix\n",
        "from sklearn.preprocessing import  StandardScaler\n",
        "import matplotlib.pyplot as plt\n",
        "import seaborn as sns"
      ]
    },
    {
      "cell_type": "code",
      "execution_count": null,
      "id": "981cb062-2cd6-4a4a-85a5-90e57ef7d450",
      "metadata": {
        "id": "981cb062-2cd6-4a4a-85a5-90e57ef7d450"
      },
      "outputs": [],
      "source": [
        "data_df = pd.read_csv(r\"D:\\Handwritten_Digit_Recognition\\data.csv\")\n",
        "test_df = pd.read_csv(r\"D:\\Handwritten_Digit_Recognition\\test.csv\")"
      ]
    },
    {
      "cell_type": "code",
      "execution_count": null,
      "id": "0f7153d7-e65c-4283-8c46-897c5f64ecd9",
      "metadata": {
        "id": "0f7153d7-e65c-4283-8c46-897c5f64ecd9",
        "outputId": "3fd31269-6d8d-4fe5-ae68-f16de03dd6eb"
      },
      "outputs": [
        {
          "data": {
            "text/plain": [
              "(42000, 785)"
            ]
          },
          "execution_count": 4,
          "metadata": {},
          "output_type": "execute_result"
        }
      ],
      "source": [
        "data_df.shape"
      ]
    },
    {
      "cell_type": "code",
      "execution_count": null,
      "id": "c18627cf-0777-494b-a03d-2fdd4f5dbfc4",
      "metadata": {
        "id": "c18627cf-0777-494b-a03d-2fdd4f5dbfc4",
        "outputId": "43eed361-98bf-4d6c-8a75-0c881da9944e"
      },
      "outputs": [
        {
          "data": {
            "text/plain": [
              "(28000, 784)"
            ]
          },
          "execution_count": 5,
          "metadata": {},
          "output_type": "execute_result"
        }
      ],
      "source": [
        "test_df.shape\n"
      ]
    },
    {
      "cell_type": "code",
      "execution_count": null,
      "id": "b9ebc7ea-e178-4d83-9150-35388ad210a4",
      "metadata": {
        "id": "b9ebc7ea-e178-4d83-9150-35388ad210a4"
      },
      "outputs": [],
      "source": [
        "y=data_df['label']\n",
        "x=data_df.drop('label',axis=1)"
      ]
    },
    {
      "cell_type": "code",
      "execution_count": null,
      "id": "3a779688-e3ac-44ec-953a-e10005d57706",
      "metadata": {
        "id": "3a779688-e3ac-44ec-953a-e10005d57706",
        "outputId": "a77f8e12-80be-4cea-9467-706840692485"
      },
      "outputs": [
        {
          "data": {
            "text/plain": [
              "pandas.core.frame.DataFrame"
            ]
          },
          "execution_count": 7,
          "metadata": {},
          "output_type": "execute_result"
        }
      ],
      "source": [
        "type(x)"
      ]
    },
    {
      "cell_type": "code",
      "execution_count": null,
      "id": "705bbddb-ee38-47a3-8cc0-c2c78e6bf305",
      "metadata": {
        "id": "705bbddb-ee38-47a3-8cc0-c2c78e6bf305"
      },
      "outputs": [],
      "source": [
        "import numpy as np\n"
      ]
    },
    {
      "cell_type": "code",
      "execution_count": null,
      "id": "2af9cdc6-490d-4bf6-b749-8b870f2aa246",
      "metadata": {
        "id": "2af9cdc6-490d-4bf6-b749-8b870f2aa246",
        "outputId": "6ef6b1e2-dec5-462a-8926-92151f020704"
      },
      "outputs": [
        {
          "name": "stdout",
          "output_type": "stream",
          "text": [
            "0\n"
          ]
        },
        {
          "data": {
            "image/png": "[encoded data removed]",
            "text/plain": [
              "<Figure size 700x700 with 1 Axes>"
            ]
          },
          "metadata": {},
          "output_type": "display_data"
        }
      ],
      "source": [
        "plt.figure(figsize=(7,7))\n",
        "some_digit=1260\n",
        "some_digit_image = x.iloc[some_digit].to_numpy()\n",
        "plt.imshow(np.reshape(some_digit_image, (28,28)))\n",
        "print(y[some_digit])"
      ]
    },
    {
      "cell_type": "code",
      "execution_count": null,
      "id": "3f6626df-2dcf-45a4-8724-f12d7dc31852",
      "metadata": {
        "id": "3f6626df-2dcf-45a4-8724-f12d7dc31852",
        "outputId": "7c041ad6-212c-4701-f9da-cf36e4027e10"
      },
      "outputs": [
        {
          "data": {
            "text/plain": [
              "<Axes: xlabel='label', ylabel='count'>"
            ]
          },
          "execution_count": 15,
          "metadata": {},
          "output_type": "execute_result"
        },
        {
          "data": {
            "image/png": "[encoded data removed]",
            "text/plain": [
              "<Figure size 640x480 with 1 Axes>"
            ]
          },
          "metadata": {},
          "output_type": "display_data"
        }
      ],
      "source": [
        "sns.countplot( x='label', data=data_df)"
      ]
    },
    {
      "cell_type": "code",
      "execution_count": null,
      "id": "9e1a513d-b45f-4cb6-91ca-258ad518bd96",
      "metadata": {
        "id": "9e1a513d-b45f-4cb6-91ca-258ad518bd96"
      },
      "outputs": [],
      "source": [
        "#x_train, x_test, y_train, y_test = train_test_split(x, y, test_size = 0.40, random_state = 60)\n",
        "#x_train, x_test, y_train, y_test = train_test_split(x, y, test_size = 0.30, random_state = 70)\n",
        "#x_train, x_test, y_train, y_test = train_test_split(x, y, test_size = 0.25, random_state = 75)\n",
        "#x_train, x_test, y_train, y_test = train_test_split(x, y, test_size = 0.20, random_state = 80)\n",
        "#x_train, x_test, y_train, y_test = train_test_split(x, y, test_size = 0.10, random_state = 90)\n",
        "x_train, x_test, y_train, y_test = train_test_split(x, y, test_size = 0.5, random_state = 95)"
      ]
    },
    {
      "cell_type": "code",
      "execution_count": null,
      "id": "bb359ce6-d620-4382-b441-ab7ad8388f3b",
      "metadata": {
        "id": "bb359ce6-d620-4382-b441-ab7ad8388f3b",
        "outputId": "d46240a0-bb7e-4d0b-819b-f4a241d8221e"
      },
      "outputs": [
        {
          "data": {
            "text/plain": [
              "((21000, 784), (21000,), (21000, 784), (21000,))"
            ]
          },
          "execution_count": 311,
          "metadata": {},
          "output_type": "execute_result"
        }
      ],
      "source": [
        "x_train.shape,y_train.shape,x_test.shape,y_test.shape"
      ]
    },
    {
      "cell_type": "code",
      "execution_count": null,
      "id": "0591581a-a972-46d7-ab5d-cab3aa6f6c7d",
      "metadata": {
        "id": "0591581a-a972-46d7-ab5d-cab3aa6f6c7d",
        "outputId": "57443c5c-d187-4bec-b206-8785ac18d4ee"
      },
      "outputs": [
        {
          "data": {
            "text/plain": [
              "(21000, 784)"
            ]
          },
          "execution_count": 312,
          "metadata": {},
          "output_type": "execute_result"
        }
      ],
      "source": [
        "scaler = StandardScaler()\n",
        "scaler.fit(x_train,y_train)\n",
        "x_train = scaler.transform(x_train)\n",
        "x_train.shape"
      ]
    },
    {
      "cell_type": "code",
      "execution_count": null,
      "id": "e5682a9a-8b1b-4d4b-a39c-9d412dea3fbd",
      "metadata": {
        "id": "e5682a9a-8b1b-4d4b-a39c-9d412dea3fbd",
        "outputId": "53ab8418-223c-469f-b58c-943d2bf35d76"
      },
      "outputs": [
        {
          "data": {
            "text/html": [
              "<style>#sk-container-id-37 {color: black;background-color: white;}#sk-container-id-37 pre{padding: 0;}#sk-container-id-37 div.sk-toggleable {background-color: white;}#sk-container-id-37 label.sk-toggleable__label {cursor: pointer;display: block;width: 100%;margin-bottom: 0;padding: 0.3em;box-sizing: border-box;text-align: center;}#sk-container-id-37 label.sk-toggleable__label-arrow:before {content: \"▸\";float: left;margin-right: 0.25em;color: #696969;}#sk-container-id-37 label.sk-toggleable__label-arrow:hover:before {color: black;}#sk-container-id-37 div.sk-estimator:hover label.sk-toggleable__label-arrow:before {color: black;}#sk-container-id-37 div.sk-toggleable__content {max-height: 0;max-width: 0;overflow: hidden;text-align: left;background-color: #f0f8ff;}#sk-container-id-37 div.sk-toggleable__content pre {margin: 0.2em;color: black;border-radius: 0.25em;background-color: #f0f8ff;}#sk-container-id-37 input.sk-toggleable__control:checked~div.sk-toggleable__content {max-height: 200px;max-width: 100%;overflow: auto;}#sk-container-id-37 input.sk-toggleable__control:checked~label.sk-toggleable__label-arrow:before {content: \"▾\";}#sk-container-id-37 div.sk-estimator input.sk-toggleable__control:checked~label.sk-toggleable__label {background-color: #d4ebff;}#sk-container-id-37 div.sk-label input.sk-toggleable__control:checked~label.sk-toggleable__label {background-color: #d4ebff;}#sk-container-id-37 input.sk-hidden--visually {border: 0;clip: rect(1px 1px 1px 1px);clip: rect(1px, 1px, 1px, 1px);height: 1px;margin: -1px;overflow: hidden;padding: 0;position: absolute;width: 1px;}#sk-container-id-37 div.sk-estimator {font-family: monospace;background-color: #f0f8ff;border: 1px dotted black;border-radius: 0.25em;box-sizing: border-box;margin-bottom: 0.5em;}#sk-container-id-37 div.sk-estimator:hover {background-color: #d4ebff;}#sk-container-id-37 div.sk-parallel-item::after {content: \"\";width: 100%;border-bottom: 1px solid gray;flex-grow: 1;}#sk-container-id-37 div.sk-label:hover label.sk-toggleable__label {background-color: #d4ebff;}#sk-container-id-37 div.sk-serial::before {content: \"\";position: absolute;border-left: 1px solid gray;box-sizing: border-box;top: 0;bottom: 0;left: 50%;z-index: 0;}#sk-container-id-37 div.sk-serial {display: flex;flex-direction: column;align-items: center;background-color: white;padding-right: 0.2em;padding-left: 0.2em;position: relative;}#sk-container-id-37 div.sk-item {position: relative;z-index: 1;}#sk-container-id-37 div.sk-parallel {display: flex;align-items: stretch;justify-content: center;background-color: white;position: relative;}#sk-container-id-37 div.sk-item::before, #sk-container-id-37 div.sk-parallel-item::before {content: \"\";position: absolute;border-left: 1px solid gray;box-sizing: border-box;top: 0;bottom: 0;left: 50%;z-index: -1;}#sk-container-id-37 div.sk-parallel-item {display: flex;flex-direction: column;z-index: 1;position: relative;background-color: white;}#sk-container-id-37 div.sk-parallel-item:first-child::after {align-self: flex-end;width: 50%;}#sk-container-id-37 div.sk-parallel-item:last-child::after {align-self: flex-start;width: 50%;}#sk-container-id-37 div.sk-parallel-item:only-child::after {width: 0;}#sk-container-id-37 div.sk-dashed-wrapped {border: 1px dashed gray;margin: 0 0.4em 0.5em 0.4em;box-sizing: border-box;padding-bottom: 0.4em;background-color: white;}#sk-container-id-37 div.sk-label label {font-family: monospace;font-weight: bold;display: inline-block;line-height: 1.2em;}#sk-container-id-37 div.sk-label-container {text-align: center;}#sk-container-id-37 div.sk-container {/* jupyter's `normalize.less` sets `[hidden] { display: none; }` but bootstrap.min.css set `[hidden] { display: none !important; }` so we also need the `!important` here to be able to override the default hidden behavior on the sphinx rendered scikit-learn.org. See: https://github.com/scikit-learn/scikit-learn/issues/21755 */display: inline-block !important;position: relative;}#sk-container-id-37 div.sk-text-repr-fallback {display: none;}</style><div id=\"sk-container-id-37\" class=\"sk-top-container\"><div class=\"sk-text-repr-fallback\"><pre>KNeighborsClassifier(n_neighbors=10)</pre><b>In a Jupyter environment, please rerun this cell to show the HTML representation or trust the notebook. <br />On GitHub, the HTML representation is unable to render, please try loading this page with nbviewer.org.</b></div><div class=\"sk-container\" hidden><div class=\"sk-item\"><div class=\"sk-estimator sk-toggleable\"><input class=\"sk-toggleable__control sk-hidden--visually\" id=\"sk-estimator-id-37\" type=\"checkbox\" checked><label for=\"sk-estimator-id-37\" class=\"sk-toggleable__label sk-toggleable__label-arrow\">KNeighborsClassifier</label><div class=\"sk-toggleable__content\"><pre>KNeighborsClassifier(n_neighbors=10)</pre></div></div></div></div></div>"
            ],
            "text/plain": [
              "KNeighborsClassifier(n_neighbors=10)"
            ]
          },
          "execution_count": 313,
          "metadata": {},
          "output_type": "execute_result"
        }
      ],
      "source": [
        "#classifier = KNeighborsClassifier(n_neighbors = 2)\n",
        "#classifier.fit(x_train, y_train)\n",
        "\n",
        "#classifier = KNeighborsClassifier(n_neighbors = 4)\n",
        "#classifier.fit(x_train, y_train)\n",
        "\n",
        "#classifier = KNeighborsClassifier(n_neighbors = 5)\n",
        "#classifier.fit(x_train, y_train)\n",
        "\n",
        "#classifier = KNeighborsClassifier(n_neighbors = 6)\n",
        "#classifier.fit(x_train, y_train)\n",
        "\n",
        "#classifier = KNeighborsClassifier(n_neighbors = 7)\n",
        "#classifier.fit(x_train, y_train)\n",
        "\n",
        "classifier = KNeighborsClassifier(n_neighbors = 10)\n",
        "classifier.fit(x_train, y_train)"
      ]
    },
    {
      "cell_type": "code",
      "execution_count": null,
      "id": "1ac4bf4a-1665-4e18-8ca5-7cd12d62a0c0",
      "metadata": {
        "id": "1ac4bf4a-1665-4e18-8ca5-7cd12d62a0c0",
        "outputId": "8be4c935-8166-4e78-8ea7-400ede10f8aa"
      },
      "outputs": [
        {
          "name": "stderr",
          "output_type": "stream",
          "text": [
            "G:\\Anaconda\\Lib\\site-packages\\sklearn\\base.py:432: UserWarning: X has feature names, but KNeighborsClassifier was fitted without feature names\n",
            "  warnings.warn(\n"
          ]
        },
        {
          "data": {
            "text/plain": [
              "array([9, 0, 1, ..., 8, 2, 8], dtype=int64)"
            ]
          },
          "execution_count": 314,
          "metadata": {},
          "output_type": "execute_result"
        }
      ],
      "source": [
        "y_pred = classifier.predict(x_test)\n",
        "y_pred"
      ]
    },
    {
      "cell_type": "code",
      "execution_count": null,
      "id": "1dad731c-1733-4fd7-9b7c-73820b73c71a",
      "metadata": {
        "id": "1dad731c-1733-4fd7-9b7c-73820b73c71a",
        "outputId": "20626afa-3838-4420-9d93-7f0a12aadbee"
      },
      "outputs": [
        {
          "name": "stdout",
          "output_type": "stream",
          "text": [
            "0.8346190476190476\n"
          ]
        }
      ],
      "source": [
        "print(accuracy_score(y_test, y_pred))"
      ]
    },
    {
      "cell_type": "code",
      "execution_count": null,
      "id": "f9f9b2b1-c746-42db-8ad1-ea1439e327cd",
      "metadata": {
        "id": "f9f9b2b1-c746-42db-8ad1-ea1439e327cd",
        "outputId": "9b7ccf53-ed92-400b-c89a-0ecd13b095b8"
      },
      "outputs": [
        {
          "name": "stdout",
          "output_type": "stream",
          "text": [
            "              precision    recall  f1-score   support\n",
            "\n",
            "           0       0.65      0.99      0.79      2040\n",
            "           1       1.00      0.92      0.96      2349\n",
            "           2       0.93      0.88      0.91      2117\n",
            "           3       0.94      0.81      0.87      2182\n",
            "           4       0.99      0.56      0.72      2053\n",
            "           5       0.97      0.61      0.75      1852\n",
            "           6       0.94      0.94      0.94      2054\n",
            "           7       0.94      0.85      0.89      2175\n",
            "           8       0.57      0.95      0.72      2050\n",
            "           9       0.80      0.80      0.80      2128\n",
            "\n",
            "    accuracy                           0.83     21000\n",
            "   macro avg       0.87      0.83      0.83     21000\n",
            "weighted avg       0.88      0.83      0.84     21000\n",
            "\n"
          ]
        }
      ],
      "source": [
        "print(classification_report(y_test, y_pred))"
      ]
    },
    {
      "cell_type": "code",
      "execution_count": null,
      "id": "3eae4d0e-fd25-4031-b2aa-06cd920bcb60",
      "metadata": {
        "id": "3eae4d0e-fd25-4031-b2aa-06cd920bcb60",
        "outputId": "97057dc8-791c-42c0-9a3e-c2328938a6be"
      },
      "outputs": [
        {
          "name": "stdout",
          "output_type": "stream",
          "text": [
            "[[2023    0    0    0    0    0    3    0   14    0]\n",
            " [   3 2156   24    3    0    1   16    3  143    0]\n",
            " [ 152    0 1865   12    1    0   13    5   65    4]\n",
            " [ 114    1   49 1775    0   18    3    7  205   10]\n",
            " [ 259    0    7    0 1152    0   52   11  289  283]\n",
            " [ 242    0    2   71    0 1136   28    2  358   13]\n",
            " [ 102    1    0    0    0    3 1925    0   23    0]\n",
            " [  72    0   48   12    2    0    1 1847   92  101]\n",
            " [  52    1    6   14    2   10    3    5 1956    1]\n",
            " [  85    0    1    7    2    3    1   76  261 1692]]\n"
          ]
        }
      ],
      "source": [
        "print(confusion_matrix(y_test, y_pred))"
      ]
    },
    {
      "cell_type": "code",
      "execution_count": null,
      "id": "5847e5c7-2144-4dfd-8071-22e0ff1cfa0f",
      "metadata": {
        "id": "5847e5c7-2144-4dfd-8071-22e0ff1cfa0f"
      },
      "outputs": [],
      "source": []
    }
  ],
  "metadata": {
    "kernelspec": {
      "display_name": "Python 3 (ipykernel)",
      "language": "python",
      "name": "python3"
    },
    "language_info": {
      "codemirror_mode": {
        "name": "ipython",
        "version": 3
      },
      "file_extension": ".py",
      "mimetype": "text/x-python",
      "name": "python",
      "nbconvert_exporter": "python",
      "pygments_lexer": "ipython3",
      "version": "3.11.7"
    },
    "colab": {
      "provenance": []
    }
  },
  "nbformat": 4,
  "nbformat_minor": 5
}